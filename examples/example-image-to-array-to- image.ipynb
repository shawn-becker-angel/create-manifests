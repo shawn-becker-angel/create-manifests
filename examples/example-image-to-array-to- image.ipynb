{
 "cells": [
  {
   "cell_type": "code",
   "execution_count": 1,
   "metadata": {},
   "outputs": [
    {
     "name": "stdout",
     "output_type": "stream",
     "text": [
      "img0.size:(2522, 1216)\n",
      "img1.size:(504, 243)\n",
      "arr.shape:(243, 504, 4)\n",
      "flat_arr1.len:489888\n",
      "vector.shape:(1, 489888)\n",
      "arr2.len:243\n",
      "img2.size:(504, 243)\n"
     ]
    }
   ],
   "source": [
    "## EXAMPLE: PIL.Image -> np.array -> np.vector -> np.array -> PIL.Image\n",
    "\n",
    "# from https://stackoverflow.com/a/15613103/18218031\n",
    "import numpy as np\n",
    "from PIL import Image\n",
    "\n",
    "img0 = Image.open('angel-studios.png').convert('RGBA')\n",
    "print(f\"img0.size:{img0.size}\")\n",
    "\n",
    "w, h = img0.size\n",
    "new_size = (round(w/5), round(h/5))\n",
    "img1 = img0.resize(new_size)\n",
    "print(f\"img1.size:{img1.size}\")\n",
    "\n",
    "img1.show()\n",
    "\n",
    "arr1 = np.array(img1)\n",
    "\n",
    "# record the original shape\n",
    "shape = arr1.shape\n",
    "print(f\"arr.shape:{arr1.shape}\")\n",
    "\n",
    "# make a 1-dimensional view of arr\n",
    "flat_arr1 = arr1.flatten()\n",
    "print(f\"flat_arr1.len:{len(flat_arr1)}\")\n",
    "\n",
    "# convert it to a matrix\n",
    "vector = np.matrix(flat_arr1)\n",
    "print(f\"vector.shape:{vector.shape}\")\n",
    "\n",
    "# do something to the vector\n",
    "vector[:,::30] = 255\n",
    "\n",
    "# reform a numpy array of the original shape\n",
    "arr2 = np.asarray(vector).reshape(shape)\n",
    "print(f\"arr2.len:{len(arr2)}\")\n",
    "\n",
    "# make a PIL image\n",
    "img2 = Image.fromarray(arr2, 'RGBA')\n",
    "print(f\"img2.size:{img2.size}\")\n",
    "\n",
    "img2.show()\n"
   ]
  },
  {
   "cell_type": "code",
   "execution_count": null,
   "metadata": {},
   "outputs": [],
   "source": []
  },
  {
   "cell_type": "code",
   "execution_count": null,
   "metadata": {},
   "outputs": [],
   "source": []
  }
 ],
 "metadata": {
  "instance_type": "ml.t3.medium",
  "kernelspec": {
   "display_name": "Python 3 (Data Science)",
   "language": "python",
   "name": "python3__SAGEMAKER_INTERNAL__arn:aws:sagemaker:us-west-2:236514542706:image/datascience-1.0"
  },
  "language_info": {
   "codemirror_mode": {
    "name": "ipython",
    "version": 3
   },
   "file_extension": ".py",
   "mimetype": "text/x-python",
   "name": "python",
   "nbconvert_exporter": "python",
   "pygments_lexer": "ipython3",
   "version": "3.7.10"
  }
 },
 "nbformat": 4,
 "nbformat_minor": 4
}
